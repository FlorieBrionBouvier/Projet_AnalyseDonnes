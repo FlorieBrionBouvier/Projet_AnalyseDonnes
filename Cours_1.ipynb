{
 "cells": [
  {
   "cell_type": "markdown",
   "metadata": {},
   "source": [
    "<h1> Cours 1 : Programmation Python (TP 1 à 3) <span class=\"tocSkip\"></span></h1>"
   ]
  },
  {
   "cell_type": "markdown",
   "metadata": {
    "toc": true
   },
   "source": [
    "<h1>Table of Contents<span class=\"tocSkip\"></span></h1>\n",
    "<div class=\"toc\"><ul class=\"toc-item\"><li><span><a href=\"#Première-Partie-(2H30)\" data-toc-modified-id=\"Première-Partie-(2H30)-1\"><span class=\"toc-item-num\">1&nbsp;&nbsp;</span>Première Partie (2H30)</a></span><ul class=\"toc-item\"><li><span><a href=\"#Cours-(1H)\" data-toc-modified-id=\"Cours-(1H)-1.1\"><span class=\"toc-item-num\">1.1&nbsp;&nbsp;</span>Cours (1H)</a></span><ul class=\"toc-item\"><li><span><a href=\"#Calculs\" data-toc-modified-id=\"Calculs-1.1.1\"><span class=\"toc-item-num\">1.1.1&nbsp;&nbsp;</span>Calculs</a></span></li><li><span><a href=\"#Incrémentation\" data-toc-modified-id=\"Incrémentation-1.1.2\"><span class=\"toc-item-num\">1.1.2&nbsp;&nbsp;</span>Incrémentation</a></span></li><li><span><a href=\"#Boucle\" data-toc-modified-id=\"Boucle-1.1.3\"><span class=\"toc-item-num\">1.1.3&nbsp;&nbsp;</span>Boucle</a></span></li><li><span><a href=\"#Test\" data-toc-modified-id=\"Test-1.1.4\"><span class=\"toc-item-num\">1.1.4&nbsp;&nbsp;</span>Test</a></span></li><li><span><a href=\"#Fonctions\" data-toc-modified-id=\"Fonctions-1.1.5\"><span class=\"toc-item-num\">1.1.5&nbsp;&nbsp;</span>Fonctions</a></span></li></ul></li><li><span><a href=\"#Exercices-(1H30)\" data-toc-modified-id=\"Exercices-(1H30)-1.2\"><span class=\"toc-item-num\">1.2&nbsp;&nbsp;</span>Exercices (1H30)</a></span><ul class=\"toc-item\"><li><span><a href=\"#Premier-exercice\" data-toc-modified-id=\"Premier-exercice-1.2.1\"><span class=\"toc-item-num\">1.2.1&nbsp;&nbsp;</span>Premier exercice</a></span></li><li><span><a href=\"#Deuxième-exercice\" data-toc-modified-id=\"Deuxième-exercice-1.2.2\"><span class=\"toc-item-num\">1.2.2&nbsp;&nbsp;</span>Deuxième exercice</a></span></li><li><span><a href=\"#Troisième-exercice\" data-toc-modified-id=\"Troisième-exercice-1.2.3\"><span class=\"toc-item-num\">1.2.3&nbsp;&nbsp;</span>Troisième exercice</a></span></li><li><span><a href=\"#Quatrième-exercice\" data-toc-modified-id=\"Quatrième-exercice-1.2.4\"><span class=\"toc-item-num\">1.2.4&nbsp;&nbsp;</span>Quatrième exercice</a></span></li></ul></li></ul></li><li><span><a href=\"#Deuxième-Partie-(4H15)\" data-toc-modified-id=\"Deuxième-Partie-(4H15)-2\"><span class=\"toc-item-num\">2&nbsp;&nbsp;</span>Deuxième Partie (4H15)</a></span><ul class=\"toc-item\"><li><span><a href=\"#Cours-(1H15)\" data-toc-modified-id=\"Cours-(1H15)-2.1\"><span class=\"toc-item-num\">2.1&nbsp;&nbsp;</span>Cours (1H15)</a></span><ul class=\"toc-item\"><li><span><a href=\"#Numpy\" data-toc-modified-id=\"Numpy-2.1.1\"><span class=\"toc-item-num\">2.1.1&nbsp;&nbsp;</span>Numpy</a></span><ul class=\"toc-item\"><li><span><a href=\"#Import\" data-toc-modified-id=\"Import-2.1.1.1\"><span class=\"toc-item-num\">2.1.1.1&nbsp;&nbsp;</span>Import</a></span></li><li><span><a href=\"#Liste,-conversion,-array\" data-toc-modified-id=\"Liste,-conversion,-array-2.1.1.2\"><span class=\"toc-item-num\">2.1.1.2&nbsp;&nbsp;</span>Liste, conversion, array</a></span></li><li><span><a href=\"#Calcul-numérique\" data-toc-modified-id=\"Calcul-numérique-2.1.1.3\"><span class=\"toc-item-num\">2.1.1.3&nbsp;&nbsp;</span>Calcul numérique</a></span></li><li><span><a href=\"#Calcul-matriciel\" data-toc-modified-id=\"Calcul-matriciel-2.1.1.4\"><span class=\"toc-item-num\">2.1.1.4&nbsp;&nbsp;</span>Calcul matriciel</a></span></li><li><span><a href=\"#Indexation\" data-toc-modified-id=\"Indexation-2.1.1.5\"><span class=\"toc-item-num\">2.1.1.5&nbsp;&nbsp;</span>Indexation</a></span></li><li><span><a href=\"#Manipulation-de-dimensions\" data-toc-modified-id=\"Manipulation-de-dimensions-2.1.1.6\"><span class=\"toc-item-num\">2.1.1.6&nbsp;&nbsp;</span>Manipulation de dimensions</a></span></li></ul></li><li><span><a href=\"#Pandas,-matplotlib\" data-toc-modified-id=\"Pandas,-matplotlib-2.1.2\"><span class=\"toc-item-num\">2.1.2&nbsp;&nbsp;</span>Pandas, matplotlib</a></span><ul class=\"toc-item\"><li><span><a href=\"#Pandas\" data-toc-modified-id=\"Pandas-2.1.2.1\"><span class=\"toc-item-num\">2.1.2.1&nbsp;&nbsp;</span>Pandas</a></span></li><li><span><a href=\"#Matplotlib\" data-toc-modified-id=\"Matplotlib-2.1.2.2\"><span class=\"toc-item-num\">2.1.2.2&nbsp;&nbsp;</span>Matplotlib</a></span></li></ul></li></ul></li><li><span><a href=\"#Exercices-(3H)\" data-toc-modified-id=\"Exercices-(3H)-2.2\"><span class=\"toc-item-num\">2.2&nbsp;&nbsp;</span>Exercices (3H)</a></span><ul class=\"toc-item\"><li><span><a href=\"#Premier-exercice-(numpy-only)\" data-toc-modified-id=\"Premier-exercice-(numpy-only)-2.2.1\"><span class=\"toc-item-num\">2.2.1&nbsp;&nbsp;</span>Premier exercice (numpy only)</a></span></li><li><span><a href=\"#Deuxième-exercice\" data-toc-modified-id=\"Deuxième-exercice-2.2.2\"><span class=\"toc-item-num\">2.2.2&nbsp;&nbsp;</span>Deuxième exercice</a></span></li><li><span><a href=\"#Troisième-exercice\" data-toc-modified-id=\"Troisième-exercice-2.2.3\"><span class=\"toc-item-num\">2.2.3&nbsp;&nbsp;</span>Troisième exercice</a></span><ul class=\"toc-item\"><li><span><a href=\"#EXERCICE-A-RENDRE\" data-toc-modified-id=\"EXERCICE-A-RENDRE-2.2.3.1\"><span class=\"toc-item-num\">2.2.3.1&nbsp;&nbsp;</span>EXERCICE A RENDRE</a></span></li></ul></li><li><span><a href=\"#Quatrième-exercice\" data-toc-modified-id=\"Quatrième-exercice-2.2.4\"><span class=\"toc-item-num\">2.2.4&nbsp;&nbsp;</span>Quatrième exercice</a></span></li></ul></li></ul></li></ul></div>"
   ]
  },
  {
   "cell_type": "markdown",
   "metadata": {},
   "source": [
    "Dans ce premier cours, nous allons nous familiariser avec le language Python et l'environnement Jupyter Notebook ainsi que les principaux packages indispensables au Data Scientist Python. <br>\n",
    "\n",
    "La plupart des morceaux de programmes sont déjà écrits, il suffit de faire SHIFT+ENTER lorsque la cellule est sélectionnée pour lancer le code. <br>\n",
    "\n",
    "Lorsque \"##Votre Code##\" apparait dans une cellule, c'est à vous de jouer et de briller ! Si le code est bon, un message \"Bravo\" sera affiché en sortie. <br>\n",
    "\n",
    "À la fin de chaque partie, il y a au moins 2 exercices pour vous entraîner. Un simple et des plus difficiles.\n"
   ]
  },
  {
   "cell_type": "markdown",
   "metadata": {},
   "source": [
    "# Première Partie (2H30)"
   ]
  },
  {
   "cell_type": "markdown",
   "metadata": {},
   "source": [
    "Dans cette première partie, nous introduisons les éléments de programmation simple tel que les calculs, l'incrémentation, les boucles, les tests et les fonctions."
   ]
  },
  {
   "cell_type": "markdown",
   "metadata": {},
   "source": [
    "## Cours (1H)"
   ]
  },
  {
   "cell_type": "markdown",
   "metadata": {},
   "source": [
    "### Calculs"
   ]
  },
  {
   "cell_type": "markdown",
   "metadata": {},
   "source": [
    "L'opération \"=\" correspond à affecter un nombre à une variable. \n",
    "L'objet \"None\" est un objet passe-partout qui correspond à un élément vide, dans cet exercice il faut le remplacer par la valeur correspondante.<br>\n",
    "\n",
    "Calculez mentalement :\n",
    "\\begin{equation*}\n",
    "w=a\\times b+c\\times d \\\\\n",
    "x=a+c/d \\\\\n",
    "y=(a+c)/d \\\\\n",
    "z=c\\%d+a \\\\\n",
    "\\end{equation*}"
   ]
  },
  {
   "cell_type": "code",
   "execution_count": 1,
   "metadata": {},
   "outputs": [
    {
     "name": "stdout",
     "output_type": "stream",
     "text": [
      "Essaye encore\n"
     ]
    }
   ],
   "source": [
    "a = 3\n",
    "b = 5\n",
    "c = 8\n",
    "d = 2\n",
    "\n",
    "##Votre Code##\n",
    "w = None\n",
    "x = None\n",
    "y = None\n",
    "z = None\n",
    "###Fin du Code###\n",
    "\n",
    "if w==a*b+c*d and x==a+c/d and y==(a+c)/d and z==c%d+a:\n",
    "    print(\"Bravo !\")\n",
    "else:\n",
    "    print(\"Essaye encore\")\n"
   ]
  },
  {
   "cell_type": "markdown",
   "metadata": {},
   "source": [
    "### Incrémentation "
   ]
  },
  {
   "cell_type": "markdown",
   "metadata": {},
   "source": [
    "L'incrémentation consiste à changer le contenu d'une variable en se basant sur son ancienne valeur. <br>\n",
    "\n",
    "La commande \"print\" affiche en sortie le résultat demandé. <br>\n",
    "Le # permet d'écrire des commentaires dans la cellule.<br>\n",
    "\n",
    "Essayez de trouver les 3 différentes valeurs prises par x avant de retirer les # pour voir les résultats. \n",
    "\n"
   ]
  },
  {
   "cell_type": "code",
   "execution_count": 5,
   "metadata": {
    "collapsed": true
   },
   "outputs": [],
   "source": [
    "x = 5\n",
    "x = x + 1\n",
    "#print (x)\n",
    "x += 6\n",
    "#print (x)\n",
    "x -= 6\n",
    "#print (x)"
   ]
  },
  {
   "cell_type": "markdown",
   "metadata": {},
   "source": [
    "### Boucle"
   ]
  },
  {
   "cell_type": "markdown",
   "metadata": {},
   "source": [
    "La boucle \"for\" est très pratique pour les calculs incrémentales, voici un exemple. <br>\n",
    "\n",
    "Questions:\n",
    "- Combien de fois la boucle est-elle parcourue ?\n",
    "- Quels sont les nombres qui doivent apparaître en sortie ?"
   ]
  },
  {
   "cell_type": "code",
   "execution_count": 9,
   "metadata": {
    "collapsed": true
   },
   "outputs": [],
   "source": [
    "for i in range(1,5):\n",
    "    x = x + i \n",
    "    #print(x)"
   ]
  },
  {
   "cell_type": "markdown",
   "metadata": {},
   "source": [
    "### Test"
   ]
  },
  {
   "cell_type": "markdown",
   "metadata": {},
   "source": [
    "Un test \"if\" permet de lancer le programme à l'intérieur du \"if\" lorsque la condition est respectée."
   ]
  },
  {
   "cell_type": "code",
   "execution_count": 11,
   "metadata": {},
   "outputs": [
    {
     "name": "stdout",
     "output_type": "stream",
     "text": [
      "Nombre positif\n"
     ]
    }
   ],
   "source": [
    " x = 8\n",
    "if x > 0:\n",
    "    print (\"Nombre positif\")\n",
    "else:\n",
    "    print (\"Nombre négatif\")"
   ]
  },
  {
   "cell_type": "markdown",
   "metadata": {},
   "source": [
    "À vous de jouer, tester la parité de y pour que le résultat affiché soit \"Nombre impair\"."
   ]
  },
  {
   "cell_type": "code",
   "execution_count": 32,
   "metadata": {},
   "outputs": [
    {
     "name": "stdout",
     "output_type": "stream",
     "text": [
      "Nombre pair\n",
      "Essaye encore\n"
     ]
    }
   ],
   "source": [
    "##Votre Code##\n",
    "y = 7\n",
    "if ...:\n",
    "###Fin du Code###    \n",
    "    print (\"Nombre pair\")\n",
    "    print (\"Essaye encore\")\n",
    "else:\n",
    "    print (\"Nombre impair\")\n",
    "    print(\"Bravo !\")\n"
   ]
  },
  {
   "cell_type": "markdown",
   "metadata": {},
   "source": [
    "### Fonctions"
   ]
  },
  {
   "cell_type": "markdown",
   "metadata": {},
   "source": [
    "L'écriture de fonctions est l'un des principes essentielles de la programmation. Il permet d'éviter les redondances, avoir un programme plus esthétique et bien d'autres aspects positifs.\n",
    "\n",
    "Questions : \n",
    "- Qu'est ce que je veux faire avec cette fonction ci-dessous ?\n",
    "- Une facon sans boucle de le faire ? Implémentez-là.  "
   ]
  },
  {
   "cell_type": "code",
   "execution_count": 184,
   "metadata": {
    "collapsed": true
   },
   "outputs": [],
   "source": [
    "def fonction(x):\n",
    "    y=0\n",
    "    for i in range(1,x+1):\n",
    "        y+=i\n",
    "    return y"
   ]
  },
  {
   "cell_type": "code",
   "execution_count": 224,
   "metadata": {
    "collapsed": true
   },
   "outputs": [],
   "source": [
    "##Votre Code##\n",
    "def votre_function(x):\n",
    "    ...\n",
    "    return\n",
    "###Fin du Code###"
   ]
  },
  {
   "cell_type": "code",
   "execution_count": 189,
   "metadata": {},
   "outputs": [
    {
     "name": "stdout",
     "output_type": "stream",
     "text": [
      "Bravo !\n"
     ]
    }
   ],
   "source": [
    "if fonction(100)==votre_function(100):\n",
    "    print(\"Bravo !\")\n",
    "else:\n",
    "    print(\"Essaye encore, c'est une somme populaire ;)\")"
   ]
  },
  {
   "cell_type": "markdown",
   "metadata": {},
   "source": [
    "Même si une boucle est très pratique, son coût de calcul est assez élevé, s'il y a une façon de la contourner, utilisez-là ! <br>\n",
    "Regardons le runtime de ces deux fonctions pour un chiffre très grand afin de s'en convaincre."
   ]
  },
  {
   "cell_type": "code",
   "execution_count": 196,
   "metadata": {},
   "outputs": [
    {
     "name": "stdout",
     "output_type": "stream",
     "text": [
      "Avec Boucle 6.7182s\n",
      "Sans Boucle 4e-05s\n"
     ]
    }
   ],
   "source": [
    "import time\n",
    "import numpy as np\n",
    "start = time.time()\n",
    "fonction(100000000)\n",
    "end = time.time()\n",
    "print(\"Avec Boucle \"+str(np.round(end-start,5))+\"s\")\n",
    "start = time.time()\n",
    "votre_function(100000000)\n",
    "end = time.time()\n",
    "print(\"Sans Boucle \"+str(np.round(end-start,5))+\"s\")"
   ]
  },
  {
   "cell_type": "markdown",
   "metadata": {},
   "source": [
    "## Exercices (1H30)"
   ]
  },
  {
   "cell_type": "markdown",
   "metadata": {},
   "source": [
    "### Premier exercice "
   ]
  },
  {
   "cell_type": "markdown",
   "metadata": {},
   "source": [
    "Interpréter les codes suivants, expliquer en commentaire pourquoi il y a une erreur, et corrigez-les."
   ]
  },
  {
   "cell_type": "code",
   "execution_count": 130,
   "metadata": {
    "collapsed": true
   },
   "outputs": [
    {
     "name": "stdout",
     "output_type": "stream",
     "text": [
      "5\n",
      "Corrigez moi svp\n"
     ]
    }
   ],
   "source": [
    "#J'aimerais voir 9\n",
    "a = 5\n",
    "a + 4\n",
    "print (a)\n",
    "if a==9:\n",
    "    print(\"Bravo !\")\n",
    "else:\n",
    "    print(\"Essaye encore\")"
   ]
  },
  {
   "cell_type": "code",
   "execution_count": 131,
   "metadata": {
    "collapsed": true
   },
   "outputs": [
    {
     "ename": "SyntaxError",
     "evalue": "invalid syntax (<ipython-input-131-a1c6c1efbd08>, line 3)",
     "output_type": "error",
     "traceback": [
      "\u001b[0;36m  File \u001b[0;32m\"<ipython-input-131-a1c6c1efbd08>\"\u001b[0;36m, line \u001b[0;32m3\u001b[0m\n\u001b[0;31m    for i in range (1, 10)\u001b[0m\n\u001b[0m                           ^\u001b[0m\n\u001b[0;31mSyntaxError\u001b[0m\u001b[0;31m:\u001b[0m invalid syntax\n"
     ]
    }
   ],
   "source": [
    "#Je veux la somme de 1 à 9\n",
    "a = 0\n",
    "for i in range (1, 10) \n",
    "    a += i\n",
    "print (a) \n",
    "if a==45:\n",
    "    print(\"Bravo !\")\n",
    "else:\n",
    "    print(\"Essaye encore\")"
   ]
  },
  {
   "cell_type": "code",
   "execution_count": 132,
   "metadata": {
    "collapsed": true
   },
   "outputs": [
    {
     "ename": "SyntaxError",
     "evalue": "invalid syntax (<ipython-input-132-ddfaefc1e96c>, line 3)",
     "output_type": "error",
     "traceback": [
      "\u001b[0;36m  File \u001b[0;32m\"<ipython-input-132-ddfaefc1e96c>\"\u001b[0;36m, line \u001b[0;32m3\u001b[0m\n\u001b[0;31m    for i in range (0, 4)\u001b[0m\n\u001b[0m                         ^\u001b[0m\n\u001b[0;31mSyntaxError\u001b[0m\u001b[0;31m:\u001b[0m invalid syntax\n"
     ]
    }
   ],
   "source": [
    "#Je veux la somme de 1 à 4\n",
    "a = 0\n",
    "for i in range (0, 4)\n",
    "        a = a + i\n",
    "    print (a)\n",
    "if a==10:\n",
    "    print(\"Bravo !\")\n",
    "else:\n",
    "    print(\"Essaye encore\")     "
   ]
  },
  {
   "cell_type": "code",
   "execution_count": 133,
   "metadata": {
    "collapsed": true
   },
   "outputs": [
    {
     "ename": "TypeError",
     "evalue": "unsupported operand type(s) for +: 'int' and 'str'",
     "output_type": "error",
     "traceback": [
      "\u001b[0;31m---------------------------------------------------------------------------\u001b[0m",
      "\u001b[0;31mTypeError\u001b[0m                                 Traceback (most recent call last)",
      "\u001b[0;32m<ipython-input-133-cdd45ced09be>\u001b[0m in \u001b[0;36m<module>\u001b[0;34m()\u001b[0m\n\u001b[1;32m      2\u001b[0m \u001b[0ma\u001b[0m \u001b[0;34m=\u001b[0m \u001b[0;36m45\u001b[0m\u001b[0;34m\u001b[0m\u001b[0m\n\u001b[1;32m      3\u001b[0m \u001b[0ms\u001b[0m \u001b[0;34m=\u001b[0m \u001b[0;34m\" Rue des Saints-Pères\"\u001b[0m\u001b[0;34m\u001b[0m\u001b[0m\n\u001b[0;32m----> 4\u001b[0;31m \u001b[0mprint\u001b[0m \u001b[0;34m(\u001b[0m\u001b[0ma\u001b[0m \u001b[0;34m+\u001b[0m \u001b[0ms\u001b[0m\u001b[0;34m)\u001b[0m\u001b[0;34m\u001b[0m\u001b[0m\n\u001b[0m\u001b[1;32m      5\u001b[0m \u001b[0;32mif\u001b[0m \u001b[0;34m(\u001b[0m\u001b[0ma\u001b[0m\u001b[0;34m+\u001b[0m\u001b[0ms\u001b[0m\u001b[0;34m==\u001b[0m\u001b[0;34m\"45 Rue des Saints-Pères\"\u001b[0m\u001b[0;34m)\u001b[0m\u001b[0;34m:\u001b[0m\u001b[0;34m\u001b[0m\u001b[0m\n\u001b[1;32m      6\u001b[0m     \u001b[0mprint\u001b[0m\u001b[0;34m(\u001b[0m\u001b[0;34m\"Bravo !\"\u001b[0m\u001b[0;34m)\u001b[0m\u001b[0;34m\u001b[0m\u001b[0m\n",
      "\u001b[0;31mTypeError\u001b[0m: unsupported operand type(s) for +: 'int' and 'str'"
     ]
    }
   ],
   "source": [
    "# Je veux écrire l'adresse de l'université \n",
    "a = 45\n",
    "s = \"Rue des Saints-Pères\"\n",
    "print (a + s)\n",
    "if (a+s==\"45 Rue des Saints-Pères\"):\n",
    "    print(\"Bravo !\")\n",
    "else:\n",
    "    print(\"Essaye encore\")"
   ]
  },
  {
   "cell_type": "markdown",
   "metadata": {},
   "source": [
    "### Deuxième exercice"
   ]
  },
  {
   "cell_type": "markdown",
   "metadata": {},
   "source": [
    "Ecrivez-moi deux différentes fonctions pour calculer une factorielle  (une itérative et une récursive)."
   ]
  },
  {
   "cell_type": "code",
   "execution_count": 162,
   "metadata": {
    "collapsed": true
   },
   "outputs": [],
   "source": [
    "##Votre Code##\n",
    "def factorielle_iter(x):\n",
    "    ...\n",
    "    return\n",
    "###Fin du Code###\n",
    "if factorielle_iter(6)==720:\n",
    "    print(\"Bravo pour la méthode itérative !\")\n",
    "else:\n",
    "    print(\"Essaye encore\")"
   ]
  },
  {
   "cell_type": "code",
   "execution_count": 223,
   "metadata": {},
   "outputs": [
    {
     "name": "stdout",
     "output_type": "stream",
     "text": [
      "Essaye encore\n"
     ]
    }
   ],
   "source": [
    "##Votre Code##\n",
    "def factorielle_recur(x):\n",
    "    ...\n",
    "    return\n",
    "###Fin du Code###\n",
    "\n",
    "if factorielle_iter(6)==720:\n",
    "    print(\"Bravo pour la méthode itérative !\")\n",
    "else:\n",
    "    print(\"Essaye encore\")"
   ]
  },
  {
   "cell_type": "markdown",
   "metadata": {},
   "source": [
    "### Troisième exercice"
   ]
  },
  {
   "cell_type": "markdown",
   "metadata": {},
   "source": [
    "Calculez la somme des factorielles de 1 à x."
   ]
  },
  {
   "cell_type": "code",
   "execution_count": 201,
   "metadata": {
    "collapsed": true
   },
   "outputs": [],
   "source": [
    "##Votre Code##\n",
    "def sum_facto(x):\n",
    "    ...\n",
    "    return\n",
    "###Fin du Code###\n",
    "\n",
    "if sum_facto(20)==2561327494111820313:\n",
    "    print (\"Bravo !\")\n",
    "else:\n",
    "    print (\"Essaye encore \")"
   ]
  },
  {
   "cell_type": "markdown",
   "metadata": {},
   "source": [
    "### Quatrième exercice"
   ]
  },
  {
   "cell_type": "markdown",
   "metadata": {},
   "source": [
    "Ecrivez une fonction qui compte le nombre de voyelles."
   ]
  },
  {
   "cell_type": "code",
   "execution_count": 227,
   "metadata": {},
   "outputs": [
    {
     "name": "stdout",
     "output_type": "stream",
     "text": [
      "Encore un peu pour finir la première partie du cours !\n"
     ]
    }
   ],
   "source": [
    "##Votre Code##\n",
    "def compte_voyelles(mot):\n",
    "    ...\n",
    "    return \n",
    "###Fin du Code###\n",
    "\n",
    "if compte_voyelles(\"voiture\")==4 and compte_voyelles(\"maison\")==3:\n",
    "    print(\"Bravo, tu as fini la première partie du cours !\")\n",
    "else: \n",
    "    print(\"Encore un peu pour finir la première partie du cours !\")\n"
   ]
  },
  {
   "cell_type": "markdown",
   "metadata": {},
   "source": [
    "# Deuxième Partie (4H15)"
   ]
  },
  {
   "cell_type": "markdown",
   "metadata": {},
   "source": [
    "Dans cette seconde partie, nous explorerons les packages numpy, pandas et matplotlib essentielles à posséder dans son arsenal."
   ]
  },
  {
   "cell_type": "markdown",
   "metadata": {},
   "source": [
    "## Cours (1H15)"
   ]
  },
  {
   "cell_type": "markdown",
   "metadata": {},
   "source": [
    "### Numpy"
   ]
  },
  {
   "cell_type": "markdown",
   "metadata": {},
   "source": [
    "La plupart des calculs en apprentissage statistique sont des opérations matricielles. Le package numpy contient tous les outils pour faire ses opérations de la façon la plus optimale. <br>"
   ]
  },
  {
   "cell_type": "markdown",
   "metadata": {},
   "source": [
    "#### Import "
   ]
  },
  {
   "cell_type": "markdown",
   "metadata": {},
   "source": [
    "Le package numpy est présent dans n'importe quelle installation d'un IDE Python, notamment Jupyter Notebook. Il suffit donc de l'importer :"
   ]
  },
  {
   "cell_type": "code",
   "execution_count": 230,
   "metadata": {
    "collapsed": true
   },
   "outputs": [],
   "source": [
    "import numpy"
   ]
  },
  {
   "cell_type": "markdown",
   "metadata": {},
   "source": [
    "Généralement, on donne un alias à un package car il contient une multitude de fonctions et comme le programmeur est paresseux, il préfère écrire moins. L'alias admis de tous pour numpy est np."
   ]
  },
  {
   "cell_type": "code",
   "execution_count": 232,
   "metadata": {
    "collapsed": true
   },
   "outputs": [],
   "source": [
    "import numpy as np"
   ]
  },
  {
   "cell_type": "markdown",
   "metadata": {},
   "source": [
    "#### Liste, conversion, array"
   ]
  },
  {
   "cell_type": "markdown",
   "metadata": {},
   "source": [
    "Pour stocker plusieurs éléments dans un seul objet, on utilise le concept de liste. Comme son nom l'indique, ce n'est simplement qu'une liste de termes. (Cela peut être des nombres mais aussi des caractères, ou un mélange des deux). <br>\n"
   ]
  },
  {
   "cell_type": "code",
   "execution_count": 275,
   "metadata": {
    "collapsed": true
   },
   "outputs": [],
   "source": [
    "l1 = [1,3,4,6]\n",
    "l2 = [\"a\",2,\"b\",4]"
   ]
  },
  {
   "cell_type": "markdown",
   "metadata": {},
   "source": [
    "Que se passe-t-il si l'on \"somme\" deux listes ?"
   ]
  },
  {
   "cell_type": "code",
   "execution_count": 276,
   "metadata": {},
   "outputs": [
    {
     "data": {
      "text/plain": [
       "[1, 3, 4, 6, 'a', 2, 'b', 4]"
      ]
     },
     "execution_count": 276,
     "metadata": {},
     "output_type": "execute_result"
    }
   ],
   "source": [
    "l1+l2"
   ]
  },
  {
   "cell_type": "markdown",
   "metadata": {},
   "source": [
    "Elle se concatène pour n'en former qu'une seule. <br>\n",
    "\n",
    "On ne peut pas faire d'opération directement avec les listes, il faut passer par l'objet array de numpy. Retenez bien les arguments que l'on peut obtenir d'un array, notamment dtype et shape."
   ]
  },
  {
   "cell_type": "code",
   "execution_count": 277,
   "metadata": {},
   "outputs": [
    {
     "name": "stdout",
     "output_type": "stream",
     "text": [
      "[1 3 4 6]\n",
      "int64\n",
      "1\n",
      "(4,)\n"
     ]
    }
   ],
   "source": [
    "a = np.array(l1)\n",
    "print(a)\n",
    "print(a.dtype)\n",
    "print(a.ndim)\n",
    "print(a.shape)"
   ]
  },
  {
   "cell_type": "markdown",
   "metadata": {},
   "source": [
    "Lorsque vous allez faire des calculs entre array, vérifiez bien que vous traitez des nombres. Contrairement à une liste, un array a un unique type (integer, float, string). Si une liste contient au moins un string, le array converti sera un Unicode String (U1) :"
   ]
  },
  {
   "cell_type": "code",
   "execution_count": 278,
   "metadata": {},
   "outputs": [
    {
     "data": {
      "text/plain": [
       "dtype('<U1')"
      ]
     },
     "execution_count": 278,
     "metadata": {},
     "output_type": "execute_result"
    }
   ],
   "source": [
    "s = np.array(l2)\n",
    "s.dtype"
   ]
  },
  {
   "cell_type": "markdown",
   "metadata": {},
   "source": [
    "Si vous avez une liste de string mais qu'ils sont en réalité des entiers, on peut forcer une conversion avec astype :"
   ]
  },
  {
   "cell_type": "code",
   "execution_count": 301,
   "metadata": {},
   "outputs": [
    {
     "data": {
      "text/plain": [
       "array([1, 2, 3])"
      ]
     },
     "execution_count": 301,
     "metadata": {},
     "output_type": "execute_result"
    }
   ],
   "source": [
    "l3 = [\"1\",\"2\",\"3\"]\n",
    "b = np.array(l3)\n",
    "b.astype(int)"
   ]
  },
  {
   "cell_type": "markdown",
   "metadata": {},
   "source": [
    "#### Calcul numérique"
   ]
  },
  {
   "cell_type": "markdown",
   "metadata": {},
   "source": [
    "Toutes les opérations de calcul sont possibles entre des arrays de même longueur et dimension, l'addition, la soustraction, la multiplication."
   ]
  },
  {
   "cell_type": "code",
   "execution_count": 358,
   "metadata": {},
   "outputs": [
    {
     "name": "stdout",
     "output_type": "stream",
     "text": [
      "[  3  13 110]\n",
      "[-1  7 90]\n",
      "[   2   30 1000]\n"
     ]
    }
   ],
   "source": [
    "a = np.array([1,10,100])\n",
    "b = np.array([2,3,10])\n",
    "print(a+b)\n",
    "print(a-b)\n",
    "print(a*b)"
   ]
  },
  {
   "cell_type": "markdown",
   "metadata": {},
   "source": [
    "Expliquez ce que fais cette commande :"
   ]
  },
  {
   "cell_type": "code",
   "execution_count": 365,
   "metadata": {},
   "outputs": [
    {
     "data": {
      "text/plain": [
       "array([6.71828183e+00, 2.20354658e+04, 2.68811714e+43])"
      ]
     },
     "execution_count": 365,
     "metadata": {},
     "output_type": "execute_result"
    }
   ],
   "source": [
    "np.exp(a)+b**2\n",
    "# Explication"
   ]
  },
  {
   "cell_type": "markdown",
   "metadata": {},
   "source": [
    "#### Calcul matriciel"
   ]
  },
  {
   "cell_type": "markdown",
   "metadata": {},
   "source": [
    "On a construit des array de dimension 1, aussi appelé 1d-array, maintenant on va construire des objets de forme matricielle : des 2d-array. Il faut partir d'une liste de listes."
   ]
  },
  {
   "cell_type": "code",
   "execution_count": 303,
   "metadata": {},
   "outputs": [
    {
     "name": "stdout",
     "output_type": "stream",
     "text": [
      "2\n",
      "(3, 3)\n"
     ]
    }
   ],
   "source": [
    "l4 = [[1,2,3],[2,3,4],[3,4,5]]\n",
    "matrix = np.array(l4)\n",
    "print(matrix.ndim)\n",
    "print(matrix.shape)"
   ]
  },
  {
   "cell_type": "markdown",
   "metadata": {},
   "source": [
    "NB : le 2d-array se remplit ligne par ligne, ie [1,2,3] est la première ligne de la matrice."
   ]
  },
  {
   "cell_type": "markdown",
   "metadata": {},
   "source": [
    "Comme dans la session d'avant, on se chauffe par des calculs. <br>\n",
    "Calculez :\n",
    "\\begin{equation*}\n",
    "a=\\begin{pmatrix} \n",
    "1 & 2 & 3  \\\\\n",
    "2 & 3 & 4 \\\\\n",
    "3 & 4 & 5 \n",
    "\\end{pmatrix}\n",
    "\\begin{pmatrix} \n",
    "1 & 2 & 3  \\\\\n",
    "2 & 3 & 4 \\\\\n",
    "3 & 4 & 5 \n",
    "\\end{pmatrix}\\\\\n",
    "b=\\begin{pmatrix} \n",
    "1 & 2 & 3  \\\\\n",
    "2 & 3 & 4 \\\\\n",
    "3 & 4 & 5 \n",
    "\\end{pmatrix}\n",
    "+\n",
    "\\begin{pmatrix} \n",
    "1 & 2 & 3  \\\\\n",
    "2 & 3 & 4 \\\\\n",
    "3 & 4 & 5 \n",
    "\\end{pmatrix}\\\\\n",
    "c=\\begin{pmatrix} \n",
    "1 & 2 & 3  \\\\\n",
    "2 & 3 & 4 \\\\\n",
    "3 & 4 & 5 \n",
    "\\end{pmatrix}\n",
    "\\begin{pmatrix} \n",
    "1 & 2 & 3  \\\\\n",
    "2 & 3 & 4 \\\\\n",
    "3 & 4 & 5 \n",
    "\\end{pmatrix}^T\n",
    "\\end{equation*}"
   ]
  },
  {
   "cell_type": "code",
   "execution_count": 320,
   "metadata": {},
   "outputs": [
    {
     "name": "stdout",
     "output_type": "stream",
     "text": [
      "Essaye encore\n"
     ]
    }
   ],
   "source": [
    "##Votre Code##\n",
    "a = np.array([[None,None,None]]*3)\n",
    "b = np.array([[None,None,None]]*3)\n",
    "c = np.array([[None,None,None]]*3)\n",
    "###Fin du Code###\n",
    "\n",
    "if np.array_equal(a,matrix*matrix) and np.array_equal(b,matrix+matrix) and np.array_equal(c,matrix*matrix.T):\n",
    "    print(\"Bravo !\")\n",
    "else:\n",
    "    print(\"Essaye encore\")"
   ]
  },
  {
   "cell_type": "markdown",
   "metadata": {},
   "source": [
    "#### Indexation"
   ]
  },
  {
   "cell_type": "markdown",
   "metadata": {},
   "source": [
    "Contrairement à R, l'indexation des arrays commencent à 0 (tout comme C et Java). <br>\n",
    "Pour accéder à un élément on utilise les crochets []. Par exemple le nombre à la première ligne et la première colonne d'une matrice m est obtenue par m[0,0]. <br>\n",
    "Pour accéder à tous les éléments d'une ligne ou d'une colonne on peut utiliser \":\". <br>\n",
    "\n",
    "En utilisant la matrice \\begin{equation*}m=\n",
    "\\begin{pmatrix} \n",
    "1 & 2 & 3  \\\\\n",
    "4 & 5 & 6 \\\\\n",
    "7 & 8 & 9 \n",
    "\\end{pmatrix}\n",
    "\\end{equation*}\n",
    "donner moi les éléments suivants (en utilisant l'indexation) :\n",
    "- m1 = 2 \n",
    "- m2 = [4,5,6]\n",
    "- m3 = [3,6,9]\n",
    "- m4 = [5,8]\n",
    "\n",
    "\n"
   ]
  },
  {
   "cell_type": "code",
   "execution_count": 332,
   "metadata": {},
   "outputs": [
    {
     "name": "stdout",
     "output_type": "stream",
     "text": [
      "Essaye encore\n"
     ]
    }
   ],
   "source": [
    "m=np.array([[1,2,3],[4,5,6],[7,8,9]])\n",
    "##Votre Code##\n",
    "m1 = None\n",
    "m2 = np.array([None,None,None])\n",
    "m3 = np.array([None,None,None])\n",
    "m4 = np.array([None,None])\n",
    "###Fin du Code###\n",
    "\n",
    "if np.array_equal(m1,2) and np.array_equal(m2,[4,5,6]) and np.array_equal(m3,[3,6,9]) and np.array_equal(m4,[5,8]):\n",
    "    print(\"Bravo !\")\n",
    "else:\n",
    "    print(\"Essaye encore\")"
   ]
  },
  {
   "cell_type": "markdown",
   "metadata": {},
   "source": [
    "#### Manipulation de dimensions"
   ]
  },
  {
   "cell_type": "markdown",
   "metadata": {},
   "source": [
    "La méthode reshape permet de changer la forme de l’array. On précise à reshape la forme souhaitée: par un entier si on veut un 1d-array, ou un couple (n lignes, p colonnes) pour un 2d-array. <br>\n",
    "\n",
    "Quelques autres méthodes utiles de numpy.\n",
    "- np.arange(n) : crée un array contenant les chiffres de 0 à n-1. \n",
    "- np.zeros(n) : crée un array contenant n zeros.\n",
    "- np.ones(n) : crée un array contenant n uns.\n",
    "- np.concatenate((a,b,c)) : concatène les arrays a,b et c. \n",
    "\n",
    "À vous de jouer :\n",
    "- Construisez un array x de 0 à 6.\n",
    "- Construisez un array y contenant 2 zeros.\n",
    "- Construisez un array z contenant 3 uns.\n",
    "- Concatenez x,y,z et stocker le sous la variable g.\n",
    "- redimensionnez g en un 2d-array avec 4 lignes et 3 colonnes et appelez le h."
   ]
  },
  {
   "cell_type": "code",
   "execution_count": 2,
   "metadata": {},
   "outputs": [
    {
     "name": "stdout",
     "output_type": "stream",
     "text": [
      "Bravo !\n"
     ]
    }
   ],
   "source": [
    "##Votre Code## \n",
    "x=np.arange(7)\n",
    "y=np.zeros(2)\n",
    "z=np.ones(3)\n",
    "g=np.concatenate((x,y,z))\n",
    "h=np.reshape(g,(4,3))\n",
    "### Fin du Code###\n",
    "if np.array_equal(h,np.array([[0,1,2],[3,4,5],[6,0,0],[1,1,1]])):\n",
    "    print(\"Bravo !\")\n",
    "else:\n",
    "    print(\"Essaye encore\")"
   ]
  },
  {
   "cell_type": "markdown",
   "metadata": {},
   "source": [
    "### Pandas, matplotlib"
   ]
  },
  {
   "cell_type": "markdown",
   "metadata": {},
   "source": [
    "Le package pandas est très utilisé pour stocker des bases de données et faire des opérations dessus. Il est l'équivalent du dataframe dans R, dans ce cours nous travaillerons très peu avec pandas. <br>\n",
    "Le package matplotlib est le package principal pour faire de la visualisation en Python.<br>\n",
    "\n",
    "Je vous laisse le soin de les explorer en profondeur et de me faire des jolies graphiques pour le projet final, un aperçu des possibilités de matplotlib [içi](https://matplotlib.org/gallery/index.html).<br>\n"
   ]
  },
  {
   "cell_type": "markdown",
   "metadata": {},
   "source": [
    "#### Pandas"
   ]
  },
  {
   "cell_type": "markdown",
   "metadata": {},
   "source": [
    "Pandas est le package pour manipuler des dataframes. Nous montrons içi quelques exemples pour en créer un. "
   ]
  },
  {
   "cell_type": "code",
   "execution_count": 1,
   "metadata": {
    "collapsed": true
   },
   "outputs": [],
   "source": [
    "import pandas as pd\n",
    "from pandas import Series"
   ]
  },
  {
   "cell_type": "code",
   "execution_count": 2,
   "metadata": {
    "collapsed": true
   },
   "outputs": [],
   "source": [
    "cities = Series([\"Paris06\",\"Choisy-le-Roi\",\"Bagneux\",\"Saint-Ouen\",\"Massy\"],index=[\"75006\",\"94600\",\"92220\",\"93400\",\"91300\"])"
   ]
  },
  {
   "cell_type": "code",
   "execution_count": 3,
   "metadata": {
    "collapsed": true
   },
   "outputs": [],
   "source": [
    "data_cities=pd.DataFrame(cities)\n",
    "data_cities.columns = [\"Ville\"]"
   ]
  },
  {
   "cell_type": "markdown",
   "metadata": {},
   "source": [
    "Rajouter la colonne Habitants qui recense le nombre d'habitants dans ces villes."
   ]
  },
  {
   "cell_type": "code",
   "execution_count": 5,
   "metadata": {},
   "outputs": [],
   "source": [
    "### Votre Code ###\n",
    "data_cities[\"Habitants\"]=[43880,50623,42589,47652,42636]\n",
    "##################"
   ]
  },
  {
   "cell_type": "code",
   "execution_count": 6,
   "metadata": {},
   "outputs": [
    {
     "data": {
      "text/html": [
       "<div>\n",
       "<table border=\"1\" class=\"dataframe\">\n",
       "  <thead>\n",
       "    <tr style=\"text-align: right;\">\n",
       "      <th></th>\n",
       "      <th>Ville</th>\n",
       "      <th>Habitants</th>\n",
       "    </tr>\n",
       "  </thead>\n",
       "  <tbody>\n",
       "    <tr>\n",
       "      <th>75006</th>\n",
       "      <td>Paris06</td>\n",
       "      <td>43880</td>\n",
       "    </tr>\n",
       "    <tr>\n",
       "      <th>94600</th>\n",
       "      <td>Choisy-le-Roi</td>\n",
       "      <td>50623</td>\n",
       "    </tr>\n",
       "    <tr>\n",
       "      <th>92220</th>\n",
       "      <td>Bagneux</td>\n",
       "      <td>42589</td>\n",
       "    </tr>\n",
       "    <tr>\n",
       "      <th>93400</th>\n",
       "      <td>Saint-Ouen</td>\n",
       "      <td>47652</td>\n",
       "    </tr>\n",
       "    <tr>\n",
       "      <th>91300</th>\n",
       "      <td>Massy</td>\n",
       "      <td>42636</td>\n",
       "    </tr>\n",
       "  </tbody>\n",
       "</table>\n",
       "</div>"
      ],
      "text/plain": [
       "               Ville  Habitants\n",
       "75006        Paris06      43880\n",
       "94600  Choisy-le-Roi      50623\n",
       "92220        Bagneux      42589\n",
       "93400     Saint-Ouen      47652\n",
       "91300          Massy      42636"
      ]
     },
     "execution_count": 6,
     "metadata": {},
     "output_type": "execute_result"
    }
   ],
   "source": [
    "data_cities"
   ]
  },
  {
   "cell_type": "markdown",
   "metadata": {},
   "source": [
    "Pour faire de la sélection sur un dataframe, il faut utiliser .loc : "
   ]
  },
  {
   "cell_type": "code",
   "execution_count": 7,
   "metadata": {},
   "outputs": [
    {
     "data": {
      "text/plain": [
       "Ville        Paris06\n",
       "Habitants      43880\n",
       "Name: 75006, dtype: object"
      ]
     },
     "execution_count": 7,
     "metadata": {},
     "output_type": "execute_result"
    }
   ],
   "source": [
    "data_cities.loc[\"75006\",:]"
   ]
  },
  {
   "cell_type": "code",
   "execution_count": 8,
   "metadata": {
    "collapsed": true
   },
   "outputs": [],
   "source": [
    "from sklearn.datasets import load_iris\n",
    "data = load_iris()"
   ]
  },
  {
   "cell_type": "markdown",
   "metadata": {},
   "source": [
    "En observant data, essayer d'extraire les variables explicatives et la stocker sous X, ainsi que la variable expliquée et la stocker sous y."
   ]
  },
  {
   "cell_type": "code",
   "execution_count": 10,
   "metadata": {},
   "outputs": [],
   "source": [
    "#### Votre Code #####\n",
    "X = data[\"data\"]\n",
    "y = data[\"target\"]\n",
    "#####################"
   ]
  },
  {
   "cell_type": "markdown",
   "metadata": {},
   "source": [
    "Créer un dataframe composé de X et y."
   ]
  },
  {
   "cell_type": "code",
   "execution_count": 12,
   "metadata": {
    "collapsed": true
   },
   "outputs": [],
   "source": [
    "#### Votre Code #####\n",
    "iris = pd.DataFrame(X)\n",
    "iris[\"target\"]=y\n",
    "#####################"
   ]
  },
  {
   "cell_type": "markdown",
   "metadata": {},
   "source": [
    "Aller chercher aussi le noms des variables pour renommer votre dataframe."
   ]
  },
  {
   "cell_type": "code",
   "execution_count": 17,
   "metadata": {},
   "outputs": [],
   "source": [
    "#### Votre Code #####\n",
    "data[\"feature_names\"]+[\"target\"]\n",
    "iris.columns=data[\"feature_names\"]+[\"target\"]\n",
    "#####################"
   ]
  },
  {
   "cell_type": "code",
   "execution_count": 18,
   "metadata": {},
   "outputs": [
    {
     "data": {
      "text/html": [
       "<div>\n",
       "<table border=\"1\" class=\"dataframe\">\n",
       "  <thead>\n",
       "    <tr style=\"text-align: right;\">\n",
       "      <th></th>\n",
       "      <th>sepal length (cm)</th>\n",
       "      <th>sepal width (cm)</th>\n",
       "      <th>petal length (cm)</th>\n",
       "      <th>petal width (cm)</th>\n",
       "      <th>target</th>\n",
       "    </tr>\n",
       "  </thead>\n",
       "  <tbody>\n",
       "    <tr>\n",
       "      <th>0</th>\n",
       "      <td>5.1</td>\n",
       "      <td>3.5</td>\n",
       "      <td>1.4</td>\n",
       "      <td>0.2</td>\n",
       "      <td>0</td>\n",
       "    </tr>\n",
       "    <tr>\n",
       "      <th>1</th>\n",
       "      <td>4.9</td>\n",
       "      <td>3.0</td>\n",
       "      <td>1.4</td>\n",
       "      <td>0.2</td>\n",
       "      <td>0</td>\n",
       "    </tr>\n",
       "    <tr>\n",
       "      <th>2</th>\n",
       "      <td>4.7</td>\n",
       "      <td>3.2</td>\n",
       "      <td>1.3</td>\n",
       "      <td>0.2</td>\n",
       "      <td>0</td>\n",
       "    </tr>\n",
       "    <tr>\n",
       "      <th>3</th>\n",
       "      <td>4.6</td>\n",
       "      <td>3.1</td>\n",
       "      <td>1.5</td>\n",
       "      <td>0.2</td>\n",
       "      <td>0</td>\n",
       "    </tr>\n",
       "    <tr>\n",
       "      <th>4</th>\n",
       "      <td>5.0</td>\n",
       "      <td>3.6</td>\n",
       "      <td>1.4</td>\n",
       "      <td>0.2</td>\n",
       "      <td>0</td>\n",
       "    </tr>\n",
       "  </tbody>\n",
       "</table>\n",
       "</div>"
      ],
      "text/plain": [
       "   sepal length (cm)  sepal width (cm)  petal length (cm)  petal width (cm)  \\\n",
       "0                5.1               3.5                1.4               0.2   \n",
       "1                4.9               3.0                1.4               0.2   \n",
       "2                4.7               3.2                1.3               0.2   \n",
       "3                4.6               3.1                1.5               0.2   \n",
       "4                5.0               3.6                1.4               0.2   \n",
       "\n",
       "   target  \n",
       "0       0  \n",
       "1       0  \n",
       "2       0  \n",
       "3       0  \n",
       "4       0  "
      ]
     },
     "execution_count": 18,
     "metadata": {},
     "output_type": "execute_result"
    }
   ],
   "source": [
    "iris.head()"
   ]
  },
  {
   "cell_type": "code",
   "execution_count": 20,
   "metadata": {},
   "outputs": [],
   "source": [
    "iris[\"target\"]=iris[\"target\"].apply(lambda x : \"setosa\" if x==0 else \"versicolor\" if x==1 else \"virginica\")"
   ]
  },
  {
   "cell_type": "code",
   "execution_count": 21,
   "metadata": {},
   "outputs": [
    {
     "data": {
      "text/html": [
       "<div>\n",
       "<table border=\"1\" class=\"dataframe\">\n",
       "  <thead>\n",
       "    <tr style=\"text-align: right;\">\n",
       "      <th></th>\n",
       "      <th>sepal length (cm)</th>\n",
       "      <th>sepal width (cm)</th>\n",
       "      <th>petal length (cm)</th>\n",
       "      <th>petal width (cm)</th>\n",
       "      <th>target</th>\n",
       "    </tr>\n",
       "  </thead>\n",
       "  <tbody>\n",
       "    <tr>\n",
       "      <th>0</th>\n",
       "      <td>5.1</td>\n",
       "      <td>3.5</td>\n",
       "      <td>1.4</td>\n",
       "      <td>0.2</td>\n",
       "      <td>setosa</td>\n",
       "    </tr>\n",
       "    <tr>\n",
       "      <th>1</th>\n",
       "      <td>4.9</td>\n",
       "      <td>3.0</td>\n",
       "      <td>1.4</td>\n",
       "      <td>0.2</td>\n",
       "      <td>setosa</td>\n",
       "    </tr>\n",
       "    <tr>\n",
       "      <th>2</th>\n",
       "      <td>4.7</td>\n",
       "      <td>3.2</td>\n",
       "      <td>1.3</td>\n",
       "      <td>0.2</td>\n",
       "      <td>setosa</td>\n",
       "    </tr>\n",
       "    <tr>\n",
       "      <th>3</th>\n",
       "      <td>4.6</td>\n",
       "      <td>3.1</td>\n",
       "      <td>1.5</td>\n",
       "      <td>0.2</td>\n",
       "      <td>setosa</td>\n",
       "    </tr>\n",
       "    <tr>\n",
       "      <th>4</th>\n",
       "      <td>5.0</td>\n",
       "      <td>3.6</td>\n",
       "      <td>1.4</td>\n",
       "      <td>0.2</td>\n",
       "      <td>setosa</td>\n",
       "    </tr>\n",
       "  </tbody>\n",
       "</table>\n",
       "</div>"
      ],
      "text/plain": [
       "   sepal length (cm)  sepal width (cm)  petal length (cm)  petal width (cm)  \\\n",
       "0                5.1               3.5                1.4               0.2   \n",
       "1                4.9               3.0                1.4               0.2   \n",
       "2                4.7               3.2                1.3               0.2   \n",
       "3                4.6               3.1                1.5               0.2   \n",
       "4                5.0               3.6                1.4               0.2   \n",
       "\n",
       "   target  \n",
       "0  setosa  \n",
       "1  setosa  \n",
       "2  setosa  \n",
       "3  setosa  \n",
       "4  setosa  "
      ]
     },
     "execution_count": 21,
     "metadata": {},
     "output_type": "execute_result"
    }
   ],
   "source": [
    "iris.head()"
   ]
  },
  {
   "cell_type": "markdown",
   "metadata": {},
   "source": [
    "Sauvegarder ce dataframe sous iris.txt avec un séparateur tabulation."
   ]
  },
  {
   "cell_type": "code",
   "execution_count": 23,
   "metadata": {},
   "outputs": [],
   "source": [
    "iris.to_csv(\"iris.txt\",sep=\"\\t\",index=False)"
   ]
  },
  {
   "cell_type": "code",
   "execution_count": 27,
   "metadata": {},
   "outputs": [
    {
     "data": {
      "text/html": [
       "<div>\n",
       "<table border=\"1\" class=\"dataframe\">\n",
       "  <thead>\n",
       "    <tr style=\"text-align: right;\">\n",
       "      <th></th>\n",
       "      <th>sepal length (cm)</th>\n",
       "      <th>sepal width (cm)</th>\n",
       "      <th>petal length (cm)</th>\n",
       "      <th>petal width (cm)</th>\n",
       "      <th>target</th>\n",
       "    </tr>\n",
       "  </thead>\n",
       "  <tbody>\n",
       "    <tr>\n",
       "      <th>0</th>\n",
       "      <td>5.1</td>\n",
       "      <td>3.5</td>\n",
       "      <td>1.4</td>\n",
       "      <td>0.2</td>\n",
       "      <td>setosa</td>\n",
       "    </tr>\n",
       "    <tr>\n",
       "      <th>1</th>\n",
       "      <td>4.9</td>\n",
       "      <td>3.0</td>\n",
       "      <td>1.4</td>\n",
       "      <td>0.2</td>\n",
       "      <td>setosa</td>\n",
       "    </tr>\n",
       "    <tr>\n",
       "      <th>2</th>\n",
       "      <td>4.7</td>\n",
       "      <td>3.2</td>\n",
       "      <td>1.3</td>\n",
       "      <td>0.2</td>\n",
       "      <td>setosa</td>\n",
       "    </tr>\n",
       "    <tr>\n",
       "      <th>3</th>\n",
       "      <td>4.6</td>\n",
       "      <td>3.1</td>\n",
       "      <td>1.5</td>\n",
       "      <td>0.2</td>\n",
       "      <td>setosa</td>\n",
       "    </tr>\n",
       "    <tr>\n",
       "      <th>4</th>\n",
       "      <td>5.0</td>\n",
       "      <td>3.6</td>\n",
       "      <td>1.4</td>\n",
       "      <td>0.2</td>\n",
       "      <td>setosa</td>\n",
       "    </tr>\n",
       "    <tr>\n",
       "      <th>5</th>\n",
       "      <td>5.4</td>\n",
       "      <td>3.9</td>\n",
       "      <td>1.7</td>\n",
       "      <td>0.4</td>\n",
       "      <td>setosa</td>\n",
       "    </tr>\n",
       "    <tr>\n",
       "      <th>6</th>\n",
       "      <td>4.6</td>\n",
       "      <td>3.4</td>\n",
       "      <td>1.4</td>\n",
       "      <td>0.3</td>\n",
       "      <td>setosa</td>\n",
       "    </tr>\n",
       "    <tr>\n",
       "      <th>7</th>\n",
       "      <td>5.0</td>\n",
       "      <td>3.4</td>\n",
       "      <td>1.5</td>\n",
       "      <td>0.2</td>\n",
       "      <td>setosa</td>\n",
       "    </tr>\n",
       "    <tr>\n",
       "      <th>8</th>\n",
       "      <td>4.4</td>\n",
       "      <td>2.9</td>\n",
       "      <td>1.4</td>\n",
       "      <td>0.2</td>\n",
       "      <td>setosa</td>\n",
       "    </tr>\n",
       "    <tr>\n",
       "      <th>9</th>\n",
       "      <td>4.9</td>\n",
       "      <td>3.1</td>\n",
       "      <td>1.5</td>\n",
       "      <td>0.1</td>\n",
       "      <td>setosa</td>\n",
       "    </tr>\n",
       "    <tr>\n",
       "      <th>10</th>\n",
       "      <td>5.4</td>\n",
       "      <td>3.7</td>\n",
       "      <td>1.5</td>\n",
       "      <td>0.2</td>\n",
       "      <td>setosa</td>\n",
       "    </tr>\n",
       "    <tr>\n",
       "      <th>11</th>\n",
       "      <td>4.8</td>\n",
       "      <td>3.4</td>\n",
       "      <td>1.6</td>\n",
       "      <td>0.2</td>\n",
       "      <td>setosa</td>\n",
       "    </tr>\n",
       "    <tr>\n",
       "      <th>12</th>\n",
       "      <td>4.8</td>\n",
       "      <td>3.0</td>\n",
       "      <td>1.4</td>\n",
       "      <td>0.1</td>\n",
       "      <td>setosa</td>\n",
       "    </tr>\n",
       "    <tr>\n",
       "      <th>13</th>\n",
       "      <td>4.3</td>\n",
       "      <td>3.0</td>\n",
       "      <td>1.1</td>\n",
       "      <td>0.1</td>\n",
       "      <td>setosa</td>\n",
       "    </tr>\n",
       "    <tr>\n",
       "      <th>14</th>\n",
       "      <td>5.8</td>\n",
       "      <td>4.0</td>\n",
       "      <td>1.2</td>\n",
       "      <td>0.2</td>\n",
       "      <td>setosa</td>\n",
       "    </tr>\n",
       "    <tr>\n",
       "      <th>15</th>\n",
       "      <td>5.7</td>\n",
       "      <td>4.4</td>\n",
       "      <td>1.5</td>\n",
       "      <td>0.4</td>\n",
       "      <td>setosa</td>\n",
       "    </tr>\n",
       "    <tr>\n",
       "      <th>16</th>\n",
       "      <td>5.4</td>\n",
       "      <td>3.9</td>\n",
       "      <td>1.3</td>\n",
       "      <td>0.4</td>\n",
       "      <td>setosa</td>\n",
       "    </tr>\n",
       "    <tr>\n",
       "      <th>17</th>\n",
       "      <td>5.1</td>\n",
       "      <td>3.5</td>\n",
       "      <td>1.4</td>\n",
       "      <td>0.3</td>\n",
       "      <td>setosa</td>\n",
       "    </tr>\n",
       "    <tr>\n",
       "      <th>18</th>\n",
       "      <td>5.7</td>\n",
       "      <td>3.8</td>\n",
       "      <td>1.7</td>\n",
       "      <td>0.3</td>\n",
       "      <td>setosa</td>\n",
       "    </tr>\n",
       "    <tr>\n",
       "      <th>19</th>\n",
       "      <td>5.1</td>\n",
       "      <td>3.8</td>\n",
       "      <td>1.5</td>\n",
       "      <td>0.3</td>\n",
       "      <td>setosa</td>\n",
       "    </tr>\n",
       "    <tr>\n",
       "      <th>20</th>\n",
       "      <td>5.4</td>\n",
       "      <td>3.4</td>\n",
       "      <td>1.7</td>\n",
       "      <td>0.2</td>\n",
       "      <td>setosa</td>\n",
       "    </tr>\n",
       "    <tr>\n",
       "      <th>21</th>\n",
       "      <td>5.1</td>\n",
       "      <td>3.7</td>\n",
       "      <td>1.5</td>\n",
       "      <td>0.4</td>\n",
       "      <td>setosa</td>\n",
       "    </tr>\n",
       "    <tr>\n",
       "      <th>22</th>\n",
       "      <td>4.6</td>\n",
       "      <td>3.6</td>\n",
       "      <td>1.0</td>\n",
       "      <td>0.2</td>\n",
       "      <td>setosa</td>\n",
       "    </tr>\n",
       "    <tr>\n",
       "      <th>23</th>\n",
       "      <td>5.1</td>\n",
       "      <td>3.3</td>\n",
       "      <td>1.7</td>\n",
       "      <td>0.5</td>\n",
       "      <td>setosa</td>\n",
       "    </tr>\n",
       "    <tr>\n",
       "      <th>24</th>\n",
       "      <td>4.8</td>\n",
       "      <td>3.4</td>\n",
       "      <td>1.9</td>\n",
       "      <td>0.2</td>\n",
       "      <td>setosa</td>\n",
       "    </tr>\n",
       "    <tr>\n",
       "      <th>25</th>\n",
       "      <td>5.0</td>\n",
       "      <td>3.0</td>\n",
       "      <td>1.6</td>\n",
       "      <td>0.2</td>\n",
       "      <td>setosa</td>\n",
       "    </tr>\n",
       "    <tr>\n",
       "      <th>26</th>\n",
       "      <td>5.0</td>\n",
       "      <td>3.4</td>\n",
       "      <td>1.6</td>\n",
       "      <td>0.4</td>\n",
       "      <td>setosa</td>\n",
       "    </tr>\n",
       "    <tr>\n",
       "      <th>27</th>\n",
       "      <td>5.2</td>\n",
       "      <td>3.5</td>\n",
       "      <td>1.5</td>\n",
       "      <td>0.2</td>\n",
       "      <td>setosa</td>\n",
       "    </tr>\n",
       "    <tr>\n",
       "      <th>28</th>\n",
       "      <td>5.2</td>\n",
       "      <td>3.4</td>\n",
       "      <td>1.4</td>\n",
       "      <td>0.2</td>\n",
       "      <td>setosa</td>\n",
       "    </tr>\n",
       "    <tr>\n",
       "      <th>29</th>\n",
       "      <td>4.7</td>\n",
       "      <td>3.2</td>\n",
       "      <td>1.6</td>\n",
       "      <td>0.2</td>\n",
       "      <td>setosa</td>\n",
       "    </tr>\n",
       "    <tr>\n",
       "      <th>...</th>\n",
       "      <td>...</td>\n",
       "      <td>...</td>\n",
       "      <td>...</td>\n",
       "      <td>...</td>\n",
       "      <td>...</td>\n",
       "    </tr>\n",
       "    <tr>\n",
       "      <th>120</th>\n",
       "      <td>6.9</td>\n",
       "      <td>3.2</td>\n",
       "      <td>5.7</td>\n",
       "      <td>2.3</td>\n",
       "      <td>virginica</td>\n",
       "    </tr>\n",
       "    <tr>\n",
       "      <th>121</th>\n",
       "      <td>5.6</td>\n",
       "      <td>2.8</td>\n",
       "      <td>4.9</td>\n",
       "      <td>2.0</td>\n",
       "      <td>virginica</td>\n",
       "    </tr>\n",
       "    <tr>\n",
       "      <th>122</th>\n",
       "      <td>7.7</td>\n",
       "      <td>2.8</td>\n",
       "      <td>6.7</td>\n",
       "      <td>2.0</td>\n",
       "      <td>virginica</td>\n",
       "    </tr>\n",
       "    <tr>\n",
       "      <th>123</th>\n",
       "      <td>6.3</td>\n",
       "      <td>2.7</td>\n",
       "      <td>4.9</td>\n",
       "      <td>1.8</td>\n",
       "      <td>virginica</td>\n",
       "    </tr>\n",
       "    <tr>\n",
       "      <th>124</th>\n",
       "      <td>6.7</td>\n",
       "      <td>3.3</td>\n",
       "      <td>5.7</td>\n",
       "      <td>2.1</td>\n",
       "      <td>virginica</td>\n",
       "    </tr>\n",
       "    <tr>\n",
       "      <th>125</th>\n",
       "      <td>7.2</td>\n",
       "      <td>3.2</td>\n",
       "      <td>6.0</td>\n",
       "      <td>1.8</td>\n",
       "      <td>virginica</td>\n",
       "    </tr>\n",
       "    <tr>\n",
       "      <th>126</th>\n",
       "      <td>6.2</td>\n",
       "      <td>2.8</td>\n",
       "      <td>4.8</td>\n",
       "      <td>1.8</td>\n",
       "      <td>virginica</td>\n",
       "    </tr>\n",
       "    <tr>\n",
       "      <th>127</th>\n",
       "      <td>6.1</td>\n",
       "      <td>3.0</td>\n",
       "      <td>4.9</td>\n",
       "      <td>1.8</td>\n",
       "      <td>virginica</td>\n",
       "    </tr>\n",
       "    <tr>\n",
       "      <th>128</th>\n",
       "      <td>6.4</td>\n",
       "      <td>2.8</td>\n",
       "      <td>5.6</td>\n",
       "      <td>2.1</td>\n",
       "      <td>virginica</td>\n",
       "    </tr>\n",
       "    <tr>\n",
       "      <th>129</th>\n",
       "      <td>7.2</td>\n",
       "      <td>3.0</td>\n",
       "      <td>5.8</td>\n",
       "      <td>1.6</td>\n",
       "      <td>virginica</td>\n",
       "    </tr>\n",
       "    <tr>\n",
       "      <th>130</th>\n",
       "      <td>7.4</td>\n",
       "      <td>2.8</td>\n",
       "      <td>6.1</td>\n",
       "      <td>1.9</td>\n",
       "      <td>virginica</td>\n",
       "    </tr>\n",
       "    <tr>\n",
       "      <th>131</th>\n",
       "      <td>7.9</td>\n",
       "      <td>3.8</td>\n",
       "      <td>6.4</td>\n",
       "      <td>2.0</td>\n",
       "      <td>virginica</td>\n",
       "    </tr>\n",
       "    <tr>\n",
       "      <th>132</th>\n",
       "      <td>6.4</td>\n",
       "      <td>2.8</td>\n",
       "      <td>5.6</td>\n",
       "      <td>2.2</td>\n",
       "      <td>virginica</td>\n",
       "    </tr>\n",
       "    <tr>\n",
       "      <th>133</th>\n",
       "      <td>6.3</td>\n",
       "      <td>2.8</td>\n",
       "      <td>5.1</td>\n",
       "      <td>1.5</td>\n",
       "      <td>virginica</td>\n",
       "    </tr>\n",
       "    <tr>\n",
       "      <th>134</th>\n",
       "      <td>6.1</td>\n",
       "      <td>2.6</td>\n",
       "      <td>5.6</td>\n",
       "      <td>1.4</td>\n",
       "      <td>virginica</td>\n",
       "    </tr>\n",
       "    <tr>\n",
       "      <th>135</th>\n",
       "      <td>7.7</td>\n",
       "      <td>3.0</td>\n",
       "      <td>6.1</td>\n",
       "      <td>2.3</td>\n",
       "      <td>virginica</td>\n",
       "    </tr>\n",
       "    <tr>\n",
       "      <th>136</th>\n",
       "      <td>6.3</td>\n",
       "      <td>3.4</td>\n",
       "      <td>5.6</td>\n",
       "      <td>2.4</td>\n",
       "      <td>virginica</td>\n",
       "    </tr>\n",
       "    <tr>\n",
       "      <th>137</th>\n",
       "      <td>6.4</td>\n",
       "      <td>3.1</td>\n",
       "      <td>5.5</td>\n",
       "      <td>1.8</td>\n",
       "      <td>virginica</td>\n",
       "    </tr>\n",
       "    <tr>\n",
       "      <th>138</th>\n",
       "      <td>6.0</td>\n",
       "      <td>3.0</td>\n",
       "      <td>4.8</td>\n",
       "      <td>1.8</td>\n",
       "      <td>virginica</td>\n",
       "    </tr>\n",
       "    <tr>\n",
       "      <th>139</th>\n",
       "      <td>6.9</td>\n",
       "      <td>3.1</td>\n",
       "      <td>5.4</td>\n",
       "      <td>2.1</td>\n",
       "      <td>virginica</td>\n",
       "    </tr>\n",
       "    <tr>\n",
       "      <th>140</th>\n",
       "      <td>6.7</td>\n",
       "      <td>3.1</td>\n",
       "      <td>5.6</td>\n",
       "      <td>2.4</td>\n",
       "      <td>virginica</td>\n",
       "    </tr>\n",
       "    <tr>\n",
       "      <th>141</th>\n",
       "      <td>6.9</td>\n",
       "      <td>3.1</td>\n",
       "      <td>5.1</td>\n",
       "      <td>2.3</td>\n",
       "      <td>virginica</td>\n",
       "    </tr>\n",
       "    <tr>\n",
       "      <th>142</th>\n",
       "      <td>5.8</td>\n",
       "      <td>2.7</td>\n",
       "      <td>5.1</td>\n",
       "      <td>1.9</td>\n",
       "      <td>virginica</td>\n",
       "    </tr>\n",
       "    <tr>\n",
       "      <th>143</th>\n",
       "      <td>6.8</td>\n",
       "      <td>3.2</td>\n",
       "      <td>5.9</td>\n",
       "      <td>2.3</td>\n",
       "      <td>virginica</td>\n",
       "    </tr>\n",
       "    <tr>\n",
       "      <th>144</th>\n",
       "      <td>6.7</td>\n",
       "      <td>3.3</td>\n",
       "      <td>5.7</td>\n",
       "      <td>2.5</td>\n",
       "      <td>virginica</td>\n",
       "    </tr>\n",
       "    <tr>\n",
       "      <th>145</th>\n",
       "      <td>6.7</td>\n",
       "      <td>3.0</td>\n",
       "      <td>5.2</td>\n",
       "      <td>2.3</td>\n",
       "      <td>virginica</td>\n",
       "    </tr>\n",
       "    <tr>\n",
       "      <th>146</th>\n",
       "      <td>6.3</td>\n",
       "      <td>2.5</td>\n",
       "      <td>5.0</td>\n",
       "      <td>1.9</td>\n",
       "      <td>virginica</td>\n",
       "    </tr>\n",
       "    <tr>\n",
       "      <th>147</th>\n",
       "      <td>6.5</td>\n",
       "      <td>3.0</td>\n",
       "      <td>5.2</td>\n",
       "      <td>2.0</td>\n",
       "      <td>virginica</td>\n",
       "    </tr>\n",
       "    <tr>\n",
       "      <th>148</th>\n",
       "      <td>6.2</td>\n",
       "      <td>3.4</td>\n",
       "      <td>5.4</td>\n",
       "      <td>2.3</td>\n",
       "      <td>virginica</td>\n",
       "    </tr>\n",
       "    <tr>\n",
       "      <th>149</th>\n",
       "      <td>5.9</td>\n",
       "      <td>3.0</td>\n",
       "      <td>5.1</td>\n",
       "      <td>1.8</td>\n",
       "      <td>virginica</td>\n",
       "    </tr>\n",
       "  </tbody>\n",
       "</table>\n",
       "<p>150 rows × 5 columns</p>\n",
       "</div>"
      ],
      "text/plain": [
       "     sepal length (cm)  sepal width (cm)  petal length (cm)  petal width (cm)  \\\n",
       "0                  5.1               3.5                1.4               0.2   \n",
       "1                  4.9               3.0                1.4               0.2   \n",
       "2                  4.7               3.2                1.3               0.2   \n",
       "3                  4.6               3.1                1.5               0.2   \n",
       "4                  5.0               3.6                1.4               0.2   \n",
       "5                  5.4               3.9                1.7               0.4   \n",
       "6                  4.6               3.4                1.4               0.3   \n",
       "7                  5.0               3.4                1.5               0.2   \n",
       "8                  4.4               2.9                1.4               0.2   \n",
       "9                  4.9               3.1                1.5               0.1   \n",
       "10                 5.4               3.7                1.5               0.2   \n",
       "11                 4.8               3.4                1.6               0.2   \n",
       "12                 4.8               3.0                1.4               0.1   \n",
       "13                 4.3               3.0                1.1               0.1   \n",
       "14                 5.8               4.0                1.2               0.2   \n",
       "15                 5.7               4.4                1.5               0.4   \n",
       "16                 5.4               3.9                1.3               0.4   \n",
       "17                 5.1               3.5                1.4               0.3   \n",
       "18                 5.7               3.8                1.7               0.3   \n",
       "19                 5.1               3.8                1.5               0.3   \n",
       "20                 5.4               3.4                1.7               0.2   \n",
       "21                 5.1               3.7                1.5               0.4   \n",
       "22                 4.6               3.6                1.0               0.2   \n",
       "23                 5.1               3.3                1.7               0.5   \n",
       "24                 4.8               3.4                1.9               0.2   \n",
       "25                 5.0               3.0                1.6               0.2   \n",
       "26                 5.0               3.4                1.6               0.4   \n",
       "27                 5.2               3.5                1.5               0.2   \n",
       "28                 5.2               3.4                1.4               0.2   \n",
       "29                 4.7               3.2                1.6               0.2   \n",
       "..                 ...               ...                ...               ...   \n",
       "120                6.9               3.2                5.7               2.3   \n",
       "121                5.6               2.8                4.9               2.0   \n",
       "122                7.7               2.8                6.7               2.0   \n",
       "123                6.3               2.7                4.9               1.8   \n",
       "124                6.7               3.3                5.7               2.1   \n",
       "125                7.2               3.2                6.0               1.8   \n",
       "126                6.2               2.8                4.8               1.8   \n",
       "127                6.1               3.0                4.9               1.8   \n",
       "128                6.4               2.8                5.6               2.1   \n",
       "129                7.2               3.0                5.8               1.6   \n",
       "130                7.4               2.8                6.1               1.9   \n",
       "131                7.9               3.8                6.4               2.0   \n",
       "132                6.4               2.8                5.6               2.2   \n",
       "133                6.3               2.8                5.1               1.5   \n",
       "134                6.1               2.6                5.6               1.4   \n",
       "135                7.7               3.0                6.1               2.3   \n",
       "136                6.3               3.4                5.6               2.4   \n",
       "137                6.4               3.1                5.5               1.8   \n",
       "138                6.0               3.0                4.8               1.8   \n",
       "139                6.9               3.1                5.4               2.1   \n",
       "140                6.7               3.1                5.6               2.4   \n",
       "141                6.9               3.1                5.1               2.3   \n",
       "142                5.8               2.7                5.1               1.9   \n",
       "143                6.8               3.2                5.9               2.3   \n",
       "144                6.7               3.3                5.7               2.5   \n",
       "145                6.7               3.0                5.2               2.3   \n",
       "146                6.3               2.5                5.0               1.9   \n",
       "147                6.5               3.0                5.2               2.0   \n",
       "148                6.2               3.4                5.4               2.3   \n",
       "149                5.9               3.0                5.1               1.8   \n",
       "\n",
       "        target  \n",
       "0       setosa  \n",
       "1       setosa  \n",
       "2       setosa  \n",
       "3       setosa  \n",
       "4       setosa  \n",
       "5       setosa  \n",
       "6       setosa  \n",
       "7       setosa  \n",
       "8       setosa  \n",
       "9       setosa  \n",
       "10      setosa  \n",
       "11      setosa  \n",
       "12      setosa  \n",
       "13      setosa  \n",
       "14      setosa  \n",
       "15      setosa  \n",
       "16      setosa  \n",
       "17      setosa  \n",
       "18      setosa  \n",
       "19      setosa  \n",
       "20      setosa  \n",
       "21      setosa  \n",
       "22      setosa  \n",
       "23      setosa  \n",
       "24      setosa  \n",
       "25      setosa  \n",
       "26      setosa  \n",
       "27      setosa  \n",
       "28      setosa  \n",
       "29      setosa  \n",
       "..         ...  \n",
       "120  virginica  \n",
       "121  virginica  \n",
       "122  virginica  \n",
       "123  virginica  \n",
       "124  virginica  \n",
       "125  virginica  \n",
       "126  virginica  \n",
       "127  virginica  \n",
       "128  virginica  \n",
       "129  virginica  \n",
       "130  virginica  \n",
       "131  virginica  \n",
       "132  virginica  \n",
       "133  virginica  \n",
       "134  virginica  \n",
       "135  virginica  \n",
       "136  virginica  \n",
       "137  virginica  \n",
       "138  virginica  \n",
       "139  virginica  \n",
       "140  virginica  \n",
       "141  virginica  \n",
       "142  virginica  \n",
       "143  virginica  \n",
       "144  virginica  \n",
       "145  virginica  \n",
       "146  virginica  \n",
       "147  virginica  \n",
       "148  virginica  \n",
       "149  virginica  \n",
       "\n",
       "[150 rows x 5 columns]"
      ]
     },
     "execution_count": 27,
     "metadata": {},
     "output_type": "execute_result"
    }
   ],
   "source": [
    "pd.read_csv(\"iris.txt\",sep=\"\\t\")"
   ]
  },
  {
   "cell_type": "markdown",
   "metadata": {},
   "source": [
    "#### Matplotlib"
   ]
  },
  {
   "cell_type": "markdown",
   "metadata": {},
   "source": [
    "Matplotlib est le package référence pour la visualisation. Elle dispose d'une API appelé pyplot qui génère des graphiques avec des instructions hiérarchisées. Vous verrez que les instructions sont assez intuitives à comprendre. Içi nous présentons quelques exemples de graphiques possibles.  "
   ]
  },
  {
   "cell_type": "code",
   "execution_count": 28,
   "metadata": {},
   "outputs": [],
   "source": [
    "from matplotlib import pyplot as plt"
   ]
  },
  {
   "cell_type": "code",
   "execution_count": 31,
   "metadata": {
    "collapsed": true
   },
   "outputs": [],
   "source": [
    "#Pour intégrer les graphes à votre notebook, il suffit de faire\n",
    "%matplotlib inline"
   ]
  },
  {
   "cell_type": "code",
   "execution_count": 35,
   "metadata": {},
   "outputs": [
    {
     "data": {
      "text/plain": [
       "[<matplotlib.lines.Line2D at 0x7fd4423d5d68>]"
      ]
     },
     "execution_count": 35,
     "metadata": {},
     "output_type": "execute_result"
    },
    {
     "data": {
      "image/png": "[encoded data removed]",
      "text/plain": [
       "<matplotlib.figure.Figure at 0x7fd442413d68>"
      ]
     },
     "metadata": {},
     "output_type": "display_data"
    }
   ],
   "source": [
    "from numpy import random\n",
    "import numpy as np\n",
    "import pandas as pd\n",
    "\n",
    "plt.figure(figsize=(7,7))\n",
    "plt.subplot(111)\n",
    "plt.plot([random.random_sample(1) for i in range(5)])\n",
    "#Il est possible de passer des listes, des arrays de numpy, des Series et des Dataframes de pandas\n",
    "plt.plot(np.array([random.random_sample(1) for i in range(5)]))\n",
    "plt.plot(pd.DataFrame(np.array([random.random_sample(1) for i in range(5)])))\n",
    "#pour afficher plusieurs courbes, il suffit de cumuler les instructions plt.plot"
   ]
  },
  {
   "cell_type": "code",
   "execution_count": 50,
   "metadata": {},
   "outputs": [
    {
     "data": {
      "text/plain": [
       "[<matplotlib.lines.Line2D at 0x7fd43b4f4fd0>]"
      ]
     },
     "execution_count": 50,
     "metadata": {},
     "output_type": "execute_result"
    },
    {
     "data": {
      "image/png": "[encoded data removed]",
      "text/plain": [
       "<matplotlib.figure.Figure at 0x7fd43b9d61d0>"
      ]
     },
     "metadata": {},
     "output_type": "display_data"
    }
   ],
   "source": [
    "from numpy.random import randn\n",
    "\n",
    "fig = plt.figure(figsize=(15,10))\n",
    "ax1 = fig.add_subplot(2,2,1)\n",
    "ax2 = fig.add_subplot(2,2,2)\n",
    "ax3 = fig.add_subplot(2,2,3)\n",
    "\n",
    "# On peut compléter les instances de sous graphiques par leur contenu.\n",
    "# Au passage, quelques autres exemples de graphes\n",
    "ax1.hist(randn(2000000),bins=200,color='red',alpha=0.6)\n",
    "ax2.scatter(np.arange(30),np.arange(30)+3*randn(30))\n",
    "ax3.plot(randn(50).cumsum(),'g--')"
   ]
  },
  {
   "cell_type": "code",
   "execution_count": 54,
   "metadata": {},
   "outputs": [
    {
     "data": {
      "text/plain": [
       "[<matplotlib.lines.Line2D at 0x7fd43b2da860>]"
      ]
     },
     "execution_count": 54,
     "metadata": {},
     "output_type": "execute_result"
    },
    {
     "data": {
      "image/png": "[encoded data removed]",
      "text/plain": [
       "<matplotlib.figure.Figure at 0x7fd43b3cdba8>"
      ]
     },
     "metadata": {},
     "output_type": "display_data"
    }
   ],
   "source": [
    "from numpy.random import randn\n",
    "\n",
    "fig = plt.figure(figsize=(8,6))\n",
    "ax1 = fig.add_subplot(111)\n",
    "ax1.plot(randn(50).cumsum(),color='grey',marker='o',linestyle='dashed')"
   ]
  },
  {
   "cell_type": "code",
   "execution_count": 74,
   "metadata": {},
   "outputs": [
    {
     "data": {
      "text/plain": [
       "<matplotlib.text.Text at 0x7fd43a702be0>"
      ]
     },
     "execution_count": 74,
     "metadata": {},
     "output_type": "execute_result"
    },
    {
     "data": {
      "image/png": "[encoded data removed]",
      "text/plain": [
       "<matplotlib.figure.Figure at 0x7fd43a7296d8>"
      ]
     },
     "metadata": {},
     "output_type": "display_data"
    }
   ],
   "source": [
    "from numpy.random import randn\n",
    "\n",
    "fig = plt.figure(figsize=(8,6))\n",
    "ax1 = fig.add_subplot(1,1,1)\n",
    "random.seed(19)\n",
    "ax1.plot(randn(20).cumsum(),color='#33CCFF',marker='o',linestyle='-.',label='un')\n",
    "ax1.plot(randn(20).cumsum(),color='#FF33CC',marker='o',linestyle='-.',label='deux')\n",
    "ax1.plot(randn(20).cumsum(),color='#FFCC99',marker='o',linestyle='-.',label='trois')\n",
    "\n",
    "ax1.set_xlim([0,21])\n",
    "ax1.set_ylim([-15,15])\n",
    "ax1.set_xticks(range(0,21,2))\n",
    "ax1.set_xticklabels([\"j +\" + str(l) for l in range(0,21,2)])\n",
    "ax1.set_xlabel('Durée après le traitement')\n",
    "ax1.annotate(\"You're here\", xy=(10, 1.4), #point de départ de la flèche\n",
    "             xytext=(8, 8),          #position du texte\n",
    "            arrowprops=dict(facecolor='#000000', shrink=0.10),\n",
    "            )\n",
    "\n",
    "ax1.legend(loc='best') #permet de mettre la légende dans l'endroit le plus vide\n",
    "\n",
    "#plt.xlabel(\"Libellé de l'axe des abscisses\")\n",
    "plt.ylabel(\"Libellé de l'axe des ordonnées\")\n",
    "plt.title(\"cumsum by day\")\n",
    "plt.text(5, -5, r'$\\mu=100,\\ \\sigma=15$',fontsize=20)\n",
    "\n",
    "# plt.show()"
   ]
  },
  {
   "cell_type": "markdown",
   "metadata": {},
   "source": [
    "## Exercices (3H)"
   ]
  },
  {
   "cell_type": "markdown",
   "metadata": {},
   "source": [
    "### Premier exercice (numpy only)"
   ]
  },
  {
   "cell_type": "markdown",
   "metadata": {},
   "source": [
    "Questions : \n",
    "- Téléchargez les données de \"data/data_C1.txt\" en les stockant dans un array.\n",
    "- Donnez le shape de cet array.\n",
    "- À quoi peuvent correspondre les 2 lignes de cet array ? Redimensionnez-le sous le format standard (observations,variables). \n",
    "- Calculez les estimateurs des Moindres Carrés Ordinaires en supposant que la première ligne (Y) est régressée sur la seconde (X).\n",
    "- Effectuez un test de significativité pour le coefficient de X, donnez la p-value."
   ]
  },
  {
   "cell_type": "markdown",
   "metadata": {},
   "source": [
    "Rappel 1 : On minimise la somme des résidus au carré sous les paramètres, pour obtenir les estimateurs des MCO."
   ]
  },
  {
   "cell_type": "markdown",
   "metadata": {},
   "source": [
    "\\begin{equation*}\n",
    "min \\sum \\limits_{i=1}^{n} (y_i - \\beta_0 - \\beta_1 x_i)^2 = min f(\\beta_0,\\beta_1)\n",
    "\\end{equation*}\n",
    "\\begin{equation*}\n",
    "\\frac{\\delta f(\\beta_0,\\beta_1)}{\\beta_0} = 0 \\\\\n",
    "\\frac{\\delta f(\\beta_0,\\beta_1)}{\\beta_1} = 0 \n",
    "\\end{equation*}"
   ]
  },
  {
   "cell_type": "markdown",
   "metadata": {},
   "source": [
    "$\\hat{\\beta_0}=134$\n",
    "$\\hat{\\beta_1}=0.54$"
   ]
  },
  {
   "cell_type": "markdown",
   "metadata": {},
   "source": [
    "Rappel 2 : Test de Student pour la significativité du coefficient de X.\n",
    "\n",
    "Il s’agit de comparer $\\hat{\\beta_1}$ donné par les MCO avec 0.\n",
    "Soit X une série de valeurs de taille n, de moyenne m et d’écart-type s. La statistique de test de Student est donné par la formule :\n",
    "\n",
    "$\n",
    "t=\\frac{\\hat{\\beta_1}−0}{s/\\sqrt{df}}\n",
    "$\n",
    "où df = n-1\n",
    "\n",
    "On considère que Z une distribution théorique de notre paramètre $\\beta$ suit une loi de Student de degré de liberté df et on le compare à la statistique de test :\n",
    "\n",
    "\\begin{equation*}\n",
    "p_{val} = \\mathbb{P}(|Z|>t)\\\\\n",
    "<=> p_{val} = \\mathbb{P}(\\{Z>t\\} U \\{Z<-t\\})\\\\\n",
    "<=> p_{val} = 2 \\times \\mathbb{P} (Z > t) \\\\\n",
    "<=> p_{val} = 2 \\times (1 - \\mathbb{P}(Z\\leqslant t))\n",
    "\\end{equation*}"
   ]
  },
  {
   "cell_type": "code",
   "execution_count": 77,
   "metadata": {
    "collapsed": true
   },
   "outputs": [],
   "source": [
    "import numpy as np"
   ]
  },
  {
   "cell_type": "code",
   "execution_count": 81,
   "metadata": {},
   "outputs": [],
   "source": [
    "data=np.loadtxt(\"../Analyse_donnees/data_C1.txt\")\n",
    "data=np.transpose(data)\n",
    "y=data[:,0]\n",
    "x=data[:,1]"
   ]
  },
  {
   "cell_type": "code",
   "execution_count": 82,
   "metadata": {
    "collapsed": true
   },
   "outputs": [],
   "source": [
    "def coef_estim(x,y):\n",
    "    numérateur = np.sum(x*y) - np.mean(y)*np.sum(x)\n",
    "    dénominateur = np.sum(x**2)-len(x)*np.mean(x)**2\n",
    "    return (numérateur/dénominateur)"
   ]
  },
  {
   "cell_type": "code",
   "execution_count": 83,
   "metadata": {
    "collapsed": true
   },
   "outputs": [],
   "source": [
    "def intercept_estim(x,y,coef):\n",
    "    return np.mean(y)-coef*np.mean(x)"
   ]
  },
  {
   "cell_type": "code",
   "execution_count": 84,
   "metadata": {
    "collapsed": true
   },
   "outputs": [],
   "source": [
    "from scipy import stats"
   ]
  },
  {
   "cell_type": "code",
   "execution_count": 91,
   "metadata": {
    "collapsed": true
   },
   "outputs": [],
   "source": [
    "##Votre Code##\n",
    "coef = coef_estim(x,y)\n",
    "intercept = intercept_estim(x,y,coef)\n",
    "t=coef/(np.std(x)/np.sqrt(len(x)-1))\n",
    "p_value = 2*(1-stats.t.cdf(t,df=len(x)-1))\n",
    "###Fin du Code###\n"
   ]
  },
  {
   "cell_type": "code",
   "execution_count": 92,
   "metadata": {},
   "outputs": [
    {
     "name": "stdout",
     "output_type": "stream",
     "text": [
      "Bravo !\n"
     ]
    }
   ],
   "source": [
    "if np.round(coef,2)==0.54 and np.round(intercept,2)==134.53 and np.round(p_value,2)==0.88:\n",
    "    print(\"Bravo !\")\n",
    "else:\n",
    "    print(\"Essaye encore\")"
   ]
  },
  {
   "cell_type": "markdown",
   "metadata": {},
   "source": [
    "Il est possible de faire l'exercice avec des fonctions intégrées de Python."
   ]
  },
  {
   "cell_type": "code",
   "execution_count": 87,
   "metadata": {
    "collapsed": true
   },
   "outputs": [],
   "source": [
    "from sklearn.linear_model import LinearRegression"
   ]
  },
  {
   "cell_type": "code",
   "execution_count": 88,
   "metadata": {},
   "outputs": [
    {
     "name": "stdout",
     "output_type": "stream",
     "text": [
      "coef : [0.53840141]\n",
      "intercept : 134.5299003322259\n"
     ]
    }
   ],
   "source": [
    "lr=LinearRegression()\n",
    "lr.fit(x.reshape(12,1),y)\n",
    "print(\"coef : \"+str(lr.coef_[0]))\n",
    "print(\"intercept : \"+str(lr.intercept_))"
   ]
  },
  {
   "cell_type": "code",
   "execution_count": 89,
   "metadata": {
    "collapsed": true
   },
   "outputs": [],
   "source": [
    "new_persons=np.array([45,50,53,60,75,80,85])"
   ]
  },
  {
   "cell_type": "code",
   "execution_count": 90,
   "metadata": {},
   "outputs": [
    {
     "data": {
      "text/plain": [
       "array([158.75796365, 161.44997069, 163.06517491, 166.83398476,\n",
       "       174.91000586, 177.6020129 , 180.29401993])"
      ]
     },
     "execution_count": 90,
     "metadata": {},
     "output_type": "execute_result"
    }
   ],
   "source": [
    "lr.predict(new_persons.reshape(7,1))"
   ]
  },
  {
   "cell_type": "markdown",
   "metadata": {},
   "source": [
    "### Deuxième exercice"
   ]
  },
  {
   "cell_type": "markdown",
   "metadata": {},
   "source": [
    "Construisez un échiquier de 2 façons différentes : \n",
    "- Avec une indexation astucieuse (Essayer \"::2\" pour sauter un pas).\n",
    "- Avec la fonction tile.\n"
   ]
  },
  {
   "cell_type": "code",
   "execution_count": 94,
   "metadata": {},
   "outputs": [
    {
     "name": "stdout",
     "output_type": "stream",
     "text": [
      "Bravo !\n"
     ]
    }
   ],
   "source": [
    "##Votre Code##\n",
    "echiquier_1 = np.zeros((8,8), dtype=int)\n",
    "echiquier_1[::2,::2]=1\n",
    "echiquier_1[1::2,1::2]=1\n",
    "###Fin du Code###\n",
    "\n",
    "if np.array_equal(echiquier_1,np.array(\n",
    "[[1,0,1,0,1,0,1,0],\n",
    " [0,1,0,1,0,1,0,1],\n",
    " [1,0,1,0,1,0,1,0],\n",
    " [0,1,0,1,0,1,0,1],\n",
    " [1,0,1,0,1,0,1,0],\n",
    " [0,1,0,1,0,1,0,1],\n",
    " [1,0,1,0,1,0,1,0],\n",
    " [0,1,0,1,0,1,0,1]])):\n",
    "    print(\"Bravo !\")\n",
    "else:\n",
    "    print(\"Essaye encore\")"
   ]
  },
  {
   "cell_type": "code",
   "execution_count": 95,
   "metadata": {},
   "outputs": [
    {
     "name": "stdout",
     "output_type": "stream",
     "text": [
      "Bravo !\n"
     ]
    }
   ],
   "source": [
    "##Votre Code##\n",
    "echiquier_2 = np.tile([[1,0],[0,1]],(4,4))\n",
    "###Fin du Code###\n",
    "\n",
    "if np.array_equal(echiquier_2,np.array(\n",
    "[[1,0,1,0,1,0,1,0],\n",
    " [0,1,0,1,0,1,0,1],\n",
    " [1,0,1,0,1,0,1,0],\n",
    " [0,1,0,1,0,1,0,1],\n",
    " [1,0,1,0,1,0,1,0],\n",
    " [0,1,0,1,0,1,0,1],\n",
    " [1,0,1,0,1,0,1,0],\n",
    " [0,1,0,1,0,1,0,1]])):\n",
    "    print(\"Bravo !\")\n",
    "else:\n",
    "    print(\"Essaye encore\")"
   ]
  },
  {
   "cell_type": "markdown",
   "metadata": {},
   "source": [
    "### Troisième exercice"
   ]
  },
  {
   "cell_type": "markdown",
   "metadata": {},
   "source": [
    "Les dictionnaires en Python sont une bonne méthode pour stocker plusieurs dataframes, il suffit de donner une clef à un dataframe. Exemple : dico={} dico[\"dataframe1\"]=df1"
   ]
  },
  {
   "cell_type": "markdown",
   "metadata": {},
   "source": [
    "Utiliser un dictionnaire de dataframes pour faire l'exercice suivant :"
   ]
  },
  {
   "cell_type": "markdown",
   "metadata": {},
   "source": [
    "Créer une boucle qui utilise la fonction read_csv de pandas avec iterator et chunksize pour charger des blocs de 50 lignes à la fois."
   ]
  },
  {
   "cell_type": "code",
   "execution_count": 103,
   "metadata": {},
   "outputs": [],
   "source": [
    "### Votre code ###\n",
    "dico={}\n",
    "i=1\n",
    "for df in pd.read_csv(\"iris.txt\", sep=\"\\t\", iterator=True,chunksize=50):\n",
    "    dico[\"dataframe_\"+str(i)]=df\n",
    "    i+=1\n",
    "##################"
   ]
  },
  {
   "cell_type": "markdown",
   "metadata": {},
   "source": [
    "Fusionner les 3 dataframes pour n'en avoir plus qu'un : iris_final. Ps : il y a une fonction de concaténation dans pandas. "
   ]
  },
  {
   "cell_type": "code",
   "execution_count": 105,
   "metadata": {},
   "outputs": [],
   "source": [
    "### Votre code ###\n",
    "iris_final=pd.concat([dico[\"dataframe_1\"],dico[\"dataframe_2\"],dico[\"dataframe_3\"]])\n",
    "##################"
   ]
  },
  {
   "cell_type": "markdown",
   "metadata": {},
   "source": [
    "Vérifier que la forme du dataset est bien (150,5)."
   ]
  },
  {
   "cell_type": "code",
   "execution_count": 106,
   "metadata": {},
   "outputs": [
    {
     "data": {
      "text/plain": [
       "(150, 5)"
      ]
     },
     "execution_count": 106,
     "metadata": {},
     "output_type": "execute_result"
    }
   ],
   "source": [
    "### Votre code ###\n",
    "iris_final.shape\n",
    "##################"
   ]
  },
  {
   "cell_type": "markdown",
   "metadata": {},
   "source": [
    "#### EXERCICE A RENDRE"
   ]
  },
  {
   "cell_type": "markdown",
   "metadata": {},
   "source": [
    "Sur un notebook à part, présenter moi 3 graphiques que vous jugez intéressant à partir de ce dataset,\n",
    "vous appelerez le notebook iris_nom_prenom.pynb. Date limite de rendu : 13/02."
   ]
  },
  {
   "cell_type": "markdown",
   "metadata": {},
   "source": [
    "### Quatrième exercice"
   ]
  },
  {
   "cell_type": "markdown",
   "metadata": {},
   "source": [
    "Une marche aléatoire Y est un processus stochastique tel que :\n",
    "\\begin{equation*}\n",
    "Y_0 = 0\\\\\n",
    "Y_n =\\sum \\limits_{i=1}^{n} X_i \\text{  , pour tout n>0}\n",
    "\\end{equation*}\n",
    "où $X_i$ suit une Bernouilli sur le support {-1,1}.<br>\n",
    "\n",
    "Questions :\n",
    "- Simulez 10 marches aléatoires de taille n=1000, et de pas +1 ou -1 équiprobables.\n",
    "- Utilisez matplotlib pour ploter les 10 marches aléatoires.\n",
    "- Légendez les abscisses, ordonnées.\n",
    "- Donnez le titre \"A Random Walk\" au graphique.  \n",
    "- Donnez la plus haute et la plus petite valeur pour ses 10 marches. \n",
    "- Moyenne d'étapes pour dépasser la valeur 20 sur ces marches ?"
   ]
  },
  {
   "cell_type": "code",
   "execution_count": 107,
   "metadata": {
    "collapsed": true
   },
   "outputs": [],
   "source": [
    "np.random.seed(26)\n",
    "##Votre Code##\n",
    "n_walks = 10\n",
    "n_steps = 1000\n",
    "steps = np.random.randint(0,2,(n_walks,n_steps))\n",
    "steps = 2*steps-1\n",
    "walks = np.cumsum(steps,axis=1)\n",
    "###Fin du Code###"
   ]
  },
  {
   "cell_type": "code",
   "execution_count": null,
   "metadata": {
    "collapsed": true
   },
   "outputs": [],
   "source": []
  }
 ],
 "metadata": {
  "anaconda-cloud": {},
  "kernelspec": {
   "display_name": "Python 3",
   "language": "python",
   "name": "python3"
  },
  "language_info": {
   "codemirror_mode": {
    "name": "ipython",
    "version": 3
   },
   "file_extension": ".py",
   "mimetype": "text/x-python",
   "name": "python",
   "nbconvert_exporter": "python",
   "pygments_lexer": "ipython3",
   "version": "3.6.8"
  },
  "toc": {
   "base_numbering": 1,
   "nav_menu": {},
   "number_sections": true,
   "sideBar": true,
   "skip_h1_title": false,
   "title_cell": "Table of Contents",
   "title_sidebar": "Contents",
   "toc_cell": true,
   "toc_position": {},
   "toc_section_display": true,
   "toc_window_display": true
  }
 },
 "nbformat": 4,
 "nbformat_minor": 2
}
